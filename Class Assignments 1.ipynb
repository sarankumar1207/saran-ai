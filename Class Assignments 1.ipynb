{
 "cells": [
  {
   "cell_type": "code",
   "execution_count": null,
   "id": "bb15b93f",
   "metadata": {},
   "outputs": [],
   "source": [
    "#subfieldsInAI():          "
   ]
  },
  {
   "cell_type": "code",
   "execution_count": 3,
   "id": "523ea387",
   "metadata": {},
   "outputs": [],
   "source": [
    "class subfieldsInAI():\n",
    "    def subfields():\n",
    "        print(\"Sub-fields in AI are:\")\n",
    "        Lists=['Machine Learning','Neural Networks','Vision','Robotics','Speech Processing','Natural Language Processing']\n",
    "        for temp in Lists:\n",
    "            print(temp)"
   ]
  },
  {
   "cell_type": "code",
   "execution_count": 4,
   "id": "3a0f160a",
   "metadata": {},
   "outputs": [
    {
     "name": "stdout",
     "output_type": "stream",
     "text": [
      "Sub-fields in AI are:\n",
      "Machine Learning\n",
      "Neural Networks\n",
      "Vision\n",
      "Robotics\n",
      "Speech Processing\n",
      "Natural Language Processing\n"
     ]
    }
   ],
   "source": [
    "subfieldsInAI.subfields()"
   ]
  },
  {
   "cell_type": "code",
   "execution_count": null,
   "id": "53908ee7",
   "metadata": {},
   "outputs": [],
   "source": [
    "#OddEven():"
   ]
  },
  {
   "cell_type": "code",
   "execution_count": 5,
   "id": "5f825672",
   "metadata": {},
   "outputs": [],
   "source": [
    "class OddEven():\n",
    "    def oddeven():\n",
    "        num=int(input(\"enter the number:\"))\n",
    "        if num %2==0:\n",
    "            print(num,\"is Even number\")\n",
    "        else:\n",
    "                print(num,\"is Odd number\")"
   ]
  },
  {
   "cell_type": "code",
   "execution_count": 7,
   "id": "3f994ee0",
   "metadata": {},
   "outputs": [
    {
     "name": "stdout",
     "output_type": "stream",
     "text": [
      "enter the number:52452\n",
      "52452 is Even number\n"
     ]
    }
   ],
   "source": [
    "OddEven.oddeven()"
   ]
  },
  {
   "cell_type": "code",
   "execution_count": null,
   "id": "8c8a2ab1",
   "metadata": {},
   "outputs": [],
   "source": [
    "# ElegiblityForMarriage():"
   ]
  },
  {
   "cell_type": "code",
   "execution_count": 8,
   "id": "2a2a3102",
   "metadata": {},
   "outputs": [],
   "source": [
    "class  ElegiblityForMarriage():\n",
    "    def Elegible():\n",
    "        gender=(input(\"Your Gender:\"))\n",
    "        age=int(input(\"Your Age:\"))\n",
    "        if(gender==\"Male\"):\n",
    "            if(age>=21):\n",
    "                print(\"Elegible\")\n",
    "        else:\n",
    "            print(\"Not Elegible\")\n",
    "        if(gender==\"Femle\"):\n",
    "            if(age>=18):\n",
    "                print(\"Elegible\")\n",
    "        else:\n",
    "            print(\"Not Elegible\")"
   ]
  },
  {
   "cell_type": "code",
   "execution_count": 9,
   "id": "82091f76",
   "metadata": {},
   "outputs": [
    {
     "name": "stdout",
     "output_type": "stream",
     "text": [
      "Your Gender:Male\n",
      "Your Age:20\n",
      "Not Elegible\n"
     ]
    }
   ],
   "source": [
    "ElegiblityForMarriage.Elegible()"
   ]
  },
  {
   "cell_type": "code",
   "execution_count": null,
   "id": "a0d93f54",
   "metadata": {},
   "outputs": [],
   "source": [
    "#FindPercent():"
   ]
  },
  {
   "cell_type": "code",
   "execution_count": 10,
   "id": "dc0a3509",
   "metadata": {},
   "outputs": [],
   "source": [
    "class FindPercent():\n",
    "    def percentage():\n",
    "        p1=int(input(\"subject1=\"))\n",
    "        p2=int(input(\"subject2=\"))\n",
    "        p3=int(input(\"subject3=\"))\n",
    "        p4=int(input(\"subject4=\"))\n",
    "        p5=int(input(\"subject5=\"))\n",
    "        total=(p1+p2+p3+p4+p5)\n",
    "        print(\"total:\",total)\n",
    "        percentage=(total/5)\n",
    "        print(\"percentage:\",percentage)"
   ]
  },
  {
   "cell_type": "code",
   "execution_count": 11,
   "id": "59d62efa",
   "metadata": {},
   "outputs": [
    {
     "name": "stdout",
     "output_type": "stream",
     "text": [
      "subject1=98\n",
      "subject2=87\n",
      "subject3=95\n",
      "subject4=95\n",
      "subject5=93\n",
      "total: 468\n",
      "percentage: 93.6\n"
     ]
    }
   ],
   "source": [
    "FindPercent.percentage()"
   ]
  },
  {
   "cell_type": "code",
   "execution_count": null,
   "id": "3f82e457",
   "metadata": {},
   "outputs": [],
   "source": [
    "#Triangle():"
   ]
  },
  {
   "cell_type": "code",
   "execution_count": 12,
   "id": "efc59b7e",
   "metadata": {},
   "outputs": [],
   "source": [
    "class Triangle():\n",
    "    def triangle():\n",
    "        Height=int(input(\"Height:\"))\n",
    "        breadth=int(input(\"Breadth:\"))\n",
    "        print(\"Area formula: (Height*Breadth)/2\")\n",
    "        print(\"Area of Triangle: \",(Height*breadth)/2)\n",
    "        Height1=int(input(\"Height1:\"))\n",
    "        Height2=int(input(\"Height2:\"))\n",
    "        breadth=int(input(\"Breadth:\"))\n",
    "        print(\"Perimeter formula: Height1+Height2+Breadth\")\n",
    "        print(\"Perimeter of Triangle: \",Height1+Height2+breadth)"
   ]
  },
  {
   "cell_type": "code",
   "execution_count": 13,
   "id": "7e325bf4",
   "metadata": {},
   "outputs": [
    {
     "name": "stdout",
     "output_type": "stream",
     "text": [
      "Height:32\n",
      "Breadth:34\n",
      "Area formula: (Height*Breadth)/2\n",
      "Area of Triangle:  544.0\n",
      "Height1:2\n",
      "Height2:4\n",
      "Breadth:4\n",
      "Perimeter formula: Height1+Height2+Breadth\n",
      "Perimeter of Triangle:  10\n"
     ]
    }
   ],
   "source": [
    "Triangle.triangle()"
   ]
  },
  {
   "cell_type": "code",
   "execution_count": null,
   "id": "1eaee506",
   "metadata": {},
   "outputs": [],
   "source": []
  }
 ],
 "metadata": {
  "kernelspec": {
   "display_name": "Python 3 (ipykernel)",
   "language": "python",
   "name": "python3"
  },
  "language_info": {
   "codemirror_mode": {
    "name": "ipython",
    "version": 3
   },
   "file_extension": ".py",
   "mimetype": "text/x-python",
   "name": "python",
   "nbconvert_exporter": "python",
   "pygments_lexer": "ipython3",
   "version": "3.11.5"
  }
 },
 "nbformat": 4,
 "nbformat_minor": 5
}
