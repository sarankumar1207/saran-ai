{
 "cells": [
  {
   "cell_type": "code",
   "execution_count": 1,
   "id": "9bd74e81",
   "metadata": {},
   "outputs": [],
   "source": [
    "def AgeCategoryNoR():\n",
    "        if(age<18):\n",
    "            print(\"Children\")\n",
    "            cate=\"Children\"\n",
    "        elif(age<35):\n",
    "            print(\"Adult\")\n",
    "            cate=\"Adult\"\n",
    "        elif(age<59):\n",
    "            print(\"Citizen\")\n",
    "            cate=\"Citizen\"\n",
    "        else:\n",
    "            print(\"Senior citizen\")\n",
    "            cate=\"Senior Citizen\""
   ]
  },
  {
   "cell_type": "code",
   "execution_count": 2,
   "id": "4f85a602",
   "metadata": {},
   "outputs": [
    {
     "name": "stdout",
     "output_type": "stream",
     "text": [
      "Enter the age:10\n",
      "Children\n"
     ]
    }
   ],
   "source": [
    "age=int(input(\"Enter the age:\"))\n",
    "agecategory=AgeCategoryNoR()"
   ]
  },
  {
   "cell_type": "code",
   "execution_count": 3,
   "id": "4a84e3a8",
   "metadata": {},
   "outputs": [
    {
     "name": "stdout",
     "output_type": "stream",
     "text": [
      "None\n"
     ]
    }
   ],
   "source": [
    "print(agecategory)"
   ]
  },
  {
   "cell_type": "code",
   "execution_count": 4,
   "id": "ea062882",
   "metadata": {},
   "outputs": [
    {
     "name": "stdout",
     "output_type": "stream",
     "text": [
      "Enter the age:25\n"
     ]
    },
    {
     "ename": "NameError",
     "evalue": "name 'AgeCategory' is not defined",
     "output_type": "error",
     "traceback": [
      "\u001b[1;31m---------------------------------------------------------------------------\u001b[0m",
      "\u001b[1;31mNameError\u001b[0m                                 Traceback (most recent call last)",
      "Cell \u001b[1;32mIn[4], line 2\u001b[0m\n\u001b[0;32m      1\u001b[0m age\u001b[38;5;241m=\u001b[39m\u001b[38;5;28mint\u001b[39m(\u001b[38;5;28minput\u001b[39m(\u001b[38;5;124m\"\u001b[39m\u001b[38;5;124mEnter the age:\u001b[39m\u001b[38;5;124m\"\u001b[39m))\n\u001b[1;32m----> 2\u001b[0m agecategory1\u001b[38;5;241m=\u001b[39mAgeCategory()\n",
      "\u001b[1;31mNameError\u001b[0m: name 'AgeCategory' is not defined"
     ]
    }
   ],
   "source": [
    "age=int(input(\"Enter the age:\"))\n",
    "agecategory1=AgeCategory()"
   ]
  },
  {
   "cell_type": "code",
   "execution_count": null,
   "id": "1c2456a8",
   "metadata": {},
   "outputs": [],
   "source": []
  }
 ],
 "metadata": {
  "kernelspec": {
   "display_name": "Python 3 (ipykernel)",
   "language": "python",
   "name": "python3"
  },
  "language_info": {
   "codemirror_mode": {
    "name": "ipython",
    "version": 3
   },
   "file_extension": ".py",
   "mimetype": "text/x-python",
   "name": "python",
   "nbconvert_exporter": "python",
   "pygments_lexer": "ipython3",
   "version": "3.11.5"
  }
 },
 "nbformat": 4,
 "nbformat_minor": 5
}
