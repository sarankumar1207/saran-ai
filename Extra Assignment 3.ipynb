{
 "cells": [
  {
   "cell_type": "code",
   "execution_count": 5,
   "id": "59b27149",
   "metadata": {},
   "outputs": [
    {
     "name": "stdout",
     "output_type": "stream",
     "text": [
      "value:10\n",
      "correct\n"
     ]
    }
   ],
   "source": [
    "i=(input(\"value:\"))\n",
    "if(i==\"10\"):\n",
    "    print(\"correct\")"
   ]
  },
  {
   "cell_type": "code",
   "execution_count": 4,
   "id": "4903e1e5",
   "metadata": {},
   "outputs": [
    {
     "name": "stdout",
     "output_type": "stream",
     "text": [
      "enter the password:HOPE@123\n",
      "your password is correct\n"
     ]
    }
   ],
   "source": [
    "password=(input(\"enter the password:\"))\n",
    "if(password==\"HOPE@123\"):\n",
    "    print(\"your password is correct\")\n",
    "else:\n",
    "    print(\"wrong password\")"
   ]
  },
  {
   "cell_type": "code",
   "execution_count": 6,
   "id": "221f8d52",
   "metadata": {},
   "outputs": [
    {
     "name": "stdout",
     "output_type": "stream",
     "text": [
      "enter the age:20\n",
      "adult\n"
     ]
    }
   ],
   "source": [
    "age=int(input(\"enter the age:\"))\n",
    "if(age<=18):\n",
    "    print(\"children\")\n",
    "elif(age<=35):\n",
    "    print(\"adult\")\n",
    "elif(age<=59):\n",
    "    print(\"citizen\")\n",
    "else:\n",
    "    print(\"senior citizen\")"
   ]
  },
  {
   "cell_type": "code",
   "execution_count": 8,
   "id": "e8360cc9",
   "metadata": {},
   "outputs": [
    {
     "name": "stdout",
     "output_type": "stream",
     "text": [
      "enter any number:1\n",
      "Number is postive\n"
     ]
    }
   ],
   "source": [
    "n=int(input(\"enter any number:\"))\n",
    "if(n>0):\n",
    "    print(\"Number is postive\")\n",
    "else:\n",
    "    print(\"Number is negative\")\n"
   ]
  },
  {
   "cell_type": "code",
   "execution_count": 9,
   "id": "aadd2858",
   "metadata": {},
   "outputs": [
    {
     "name": "stdout",
     "output_type": "stream",
     "text": [
      "enter a number to check:22\n",
      "Number is not divisible by 5\n"
     ]
    }
   ],
   "source": [
    "n=int(input(\"enter a number to check:\"))\n",
    "if(n%5==0):\n",
    "    print(\"Number is divisible by 5\")\n",
    "else:\n",
    "     print(\"Number is not divisible by 5\")\n",
    "    "
   ]
  },
  {
   "cell_type": "code",
   "execution_count": null,
   "id": "f9cf31fe",
   "metadata": {},
   "outputs": [],
   "source": []
  }
 ],
 "metadata": {
  "kernelspec": {
   "display_name": "Python 3 (ipykernel)",
   "language": "python",
   "name": "python3"
  },
  "language_info": {
   "codemirror_mode": {
    "name": "ipython",
    "version": 3
   },
   "file_extension": ".py",
   "mimetype": "text/x-python",
   "name": "python",
   "nbconvert_exporter": "python",
   "pygments_lexer": "ipython3",
   "version": "3.11.5"
  }
 },
 "nbformat": 4,
 "nbformat_minor": 5
}
