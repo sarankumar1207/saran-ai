{
 "cells": [
  {
   "cell_type": "code",
   "execution_count": 1,
   "id": "2866f163",
   "metadata": {},
   "outputs": [],
   "source": [
    "Lists=['Machine Learning','Neural Networks','Vision','Robotics','Speech Processing','Natural Language Processing']"
   ]
  },
  {
   "cell_type": "code",
   "execution_count": 2,
   "id": "0ff19f74",
   "metadata": {},
   "outputs": [],
   "source": [
    "def Subfields():\n",
    "    print(\"Sub-fields in AI are:\")\n",
    "    for temp in Lists:\n",
    "        print(temp)"
   ]
  },
  {
   "cell_type": "code",
   "execution_count": 3,
   "id": "3bdab3f8",
   "metadata": {},
   "outputs": [
    {
     "name": "stdout",
     "output_type": "stream",
     "text": [
      "Sub-fields in AI are:\n",
      "Machine Learning\n",
      "Neural Networks\n",
      "Vision\n",
      "Robotics\n",
      "Speech Processing\n",
      "Natural Language Processing\n"
     ]
    }
   ],
   "source": [
    "Subfields()"
   ]
  },
  {
   "cell_type": "code",
   "execution_count": null,
   "id": "a1299805",
   "metadata": {},
   "outputs": [],
   "source": [
    "#odd or even"
   ]
  },
  {
   "cell_type": "code",
   "execution_count": 4,
   "id": "77752abb",
   "metadata": {},
   "outputs": [],
   "source": [
    "def oddeven():\n",
    "    num=int(input(\"enter the number:\"))\n",
    "    if num %2==0:\n",
    "        print(num,\"is Even number\")\n",
    "    else:\n",
    "            print(num,\"is Odd number\")"
   ]
  },
  {
   "cell_type": "code",
   "execution_count": 5,
   "id": "cb6b9d53",
   "metadata": {},
   "outputs": [
    {
     "name": "stdout",
     "output_type": "stream",
     "text": [
      "enter the number:4\n",
      "4 is Even number\n"
     ]
    }
   ],
   "source": [
    "oddeven()"
   ]
  },
  {
   "cell_type": "code",
   "execution_count": null,
   "id": "79ea1a6f",
   "metadata": {},
   "outputs": [],
   "source": [
    "# Elegible()"
   ]
  },
  {
   "cell_type": "code",
   "execution_count": 6,
   "id": "f598cffb",
   "metadata": {},
   "outputs": [],
   "source": [
    "def Elegible():\n",
    "    gender=(input(\"Your Gender:\"))\n",
    "    age=int(input(\"Your Age:\"))\n",
    "    if(gender==\"Male\"):\n",
    "        if(age>=21):\n",
    "            print(\"Elegible\")\n",
    "    else:\n",
    "        print(\"Not Elegible\")\n",
    "    if(gender==\"Femle\"):\n",
    "        if(age>=18):\n",
    "            print(\"Elegible\")\n",
    "    else:\n",
    "        print(\"Not Elegible\")\n"
   ]
  },
  {
   "cell_type": "code",
   "execution_count": 7,
   "id": "ecedece1",
   "metadata": {},
   "outputs": [
    {
     "name": "stdout",
     "output_type": "stream",
     "text": [
      "Your Gender:Male\n",
      "Your Age:18\n",
      "Not Elegible\n"
     ]
    }
   ],
   "source": [
    "Elegible()"
   ]
  },
  {
   "cell_type": "code",
   "execution_count": null,
   "id": "ea9529c2",
   "metadata": {},
   "outputs": [],
   "source": [
    "#percentage()"
   ]
  },
  {
   "cell_type": "code",
   "execution_count": 22,
   "id": "b821f355",
   "metadata": {},
   "outputs": [],
   "source": [
    "def percentage():\n",
    "    p1=int(input(\"subject1=\"))\n",
    "    p2=int(input(\"subject2=\"))\n",
    "    p3=int(input(\"subject3=\"))\n",
    "    p4=int(input(\"subject4=\"))\n",
    "    p5=int(input(\"subject5=\"))\n",
    "    print(\"total:\",p1+p2+p3+p4+p5)\n",
    "    cate=total\n",
    "    print(\"percentage:\",cate/5)"
   ]
  },
  {
   "cell_type": "code",
   "execution_count": 23,
   "id": "41a2395a",
   "metadata": {},
   "outputs": [
    {
     "name": "stdout",
     "output_type": "stream",
     "text": [
      "subject1=23\n",
      "subject2=45\n",
      "subject3=34\n",
      "subject4=23\n",
      "subject5=23\n",
      "total: 148\n"
     ]
    },
    {
     "ename": "NameError",
     "evalue": "name 'total' is not defined",
     "output_type": "error",
     "traceback": [
      "\u001b[1;31m---------------------------------------------------------------------------\u001b[0m",
      "\u001b[1;31mNameError\u001b[0m                                 Traceback (most recent call last)",
      "Cell \u001b[1;32mIn[23], line 1\u001b[0m\n\u001b[1;32m----> 1\u001b[0m percentage()\n",
      "Cell \u001b[1;32mIn[22], line 8\u001b[0m, in \u001b[0;36mpercentage\u001b[1;34m()\u001b[0m\n\u001b[0;32m      6\u001b[0m p5\u001b[38;5;241m=\u001b[39m\u001b[38;5;28mint\u001b[39m(\u001b[38;5;28minput\u001b[39m(\u001b[38;5;124m\"\u001b[39m\u001b[38;5;124msubject5=\u001b[39m\u001b[38;5;124m\"\u001b[39m))\n\u001b[0;32m      7\u001b[0m \u001b[38;5;28mprint\u001b[39m(\u001b[38;5;124m\"\u001b[39m\u001b[38;5;124mtotal:\u001b[39m\u001b[38;5;124m\"\u001b[39m,p1\u001b[38;5;241m+\u001b[39mp2\u001b[38;5;241m+\u001b[39mp3\u001b[38;5;241m+\u001b[39mp4\u001b[38;5;241m+\u001b[39mp5)\n\u001b[1;32m----> 8\u001b[0m cate\u001b[38;5;241m=\u001b[39mtotal\n\u001b[0;32m      9\u001b[0m \u001b[38;5;28mprint\u001b[39m(\u001b[38;5;124m\"\u001b[39m\u001b[38;5;124mpercentage:\u001b[39m\u001b[38;5;124m\"\u001b[39m,cate\u001b[38;5;241m/\u001b[39m\u001b[38;5;241m5\u001b[39m)\n",
      "\u001b[1;31mNameError\u001b[0m: name 'total' is not defined"
     ]
    }
   ],
   "source": [
    "percentage()"
   ]
  },
  {
   "cell_type": "code",
   "execution_count": null,
   "id": "e38c97b3",
   "metadata": {},
   "outputs": [],
   "source": []
  }
 ],
 "metadata": {
  "kernelspec": {
   "display_name": "Python 3 (ipykernel)",
   "language": "python",
   "name": "python3"
  },
  "language_info": {
   "codemirror_mode": {
    "name": "ipython",
    "version": 3
   },
   "file_extension": ".py",
   "mimetype": "text/x-python",
   "name": "python",
   "nbconvert_exporter": "python",
   "pygments_lexer": "ipython3",
   "version": "3.11.5"
  }
 },
 "nbformat": 4,
 "nbformat_minor": 5
}
