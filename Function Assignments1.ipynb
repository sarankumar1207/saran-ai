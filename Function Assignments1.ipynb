{
 "cells": [
  {
   "cell_type": "code",
   "execution_count": 23,
   "id": "2866f163",
   "metadata": {},
   "outputs": [],
   "source": [
    "Lists=['Machine Learning','Neural Networks','Vision','Robotics','Speech Processing','Natural Language Processing']"
   ]
  },
  {
   "cell_type": "code",
   "execution_count": 24,
   "id": "0ff19f74",
   "metadata": {},
   "outputs": [],
   "source": [
    "def Subfields():\n",
    "    print(\"Sub-fields in AI are:\")\n",
    "    for temp in Lists:\n",
    "        print(temp)"
   ]
  },
  {
   "cell_type": "code",
   "execution_count": 25,
   "id": "3bdab3f8",
   "metadata": {},
   "outputs": [
    {
     "name": "stdout",
     "output_type": "stream",
     "text": [
      "Sub-fields in AI are:\n",
      "Machine Learning\n",
      "Neural Networks\n",
      "Vision\n",
      "Robotics\n",
      "Speech Processing\n",
      "Natural Language Processing\n"
     ]
    }
   ],
   "source": [
    "Subfields()"
   ]
  },
  {
   "cell_type": "code",
   "execution_count": null,
   "id": "a1299805",
   "metadata": {},
   "outputs": [],
   "source": [
    "#odd or even"
   ]
  },
  {
   "cell_type": "code",
   "execution_count": 26,
   "id": "77752abb",
   "metadata": {},
   "outputs": [],
   "source": [
    "def oddeven():\n",
    "    num=int(input(\"enter the number:\"))\n",
    "    if num %2==0:\n",
    "        print(num,\"is Even number\")\n",
    "    else:\n",
    "            print(num,\"is Odd number\")"
   ]
  },
  {
   "cell_type": "code",
   "execution_count": 27,
   "id": "cb6b9d53",
   "metadata": {},
   "outputs": [
    {
     "name": "stdout",
     "output_type": "stream",
     "text": [
      "enter the number:4\n",
      "4 is Even number\n"
     ]
    }
   ],
   "source": [
    "oddeven()"
   ]
  },
  {
   "cell_type": "code",
   "execution_count": null,
   "id": "79ea1a6f",
   "metadata": {},
   "outputs": [],
   "source": [
    "# Elegible()"
   ]
  },
  {
   "cell_type": "code",
   "execution_count": 28,
   "id": "f598cffb",
   "metadata": {},
   "outputs": [],
   "source": [
    "def Elegible():\n",
    "    gender=(input(\"Your Gender:\"))\n",
    "    age=int(input(\"Your Age:\"))\n",
    "    if(gender==\"Male\"):\n",
    "        if(age>=21):\n",
    "            print(\"Elegible\")\n",
    "    else:\n",
    "        print(\"Not Elegible\")\n",
    "    if(gender==\"Femle\"):\n",
    "        if(age>=18):\n",
    "            print(\"Elegible\")\n",
    "    else:\n",
    "        print(\"Not Elegible\")\n"
   ]
  },
  {
   "cell_type": "code",
   "execution_count": 29,
   "id": "ecedece1",
   "metadata": {},
   "outputs": [
    {
     "name": "stdout",
     "output_type": "stream",
     "text": [
      "Your Gender:Male\n",
      "Your Age:18\n",
      "Not Elegible\n"
     ]
    }
   ],
   "source": [
    "Elegible()"
   ]
  },
  {
   "cell_type": "code",
   "execution_count": null,
   "id": "ea9529c2",
   "metadata": {},
   "outputs": [],
   "source": [
    "#percentage()"
   ]
  },
  {
   "cell_type": "code",
   "execution_count": 30,
   "id": "5fb4b592",
   "metadata": {},
   "outputs": [],
   "source": [
    "def percentage():\n",
    "    p1=int(input(\"subject1=\"))\n",
    "    p2=int(input(\"subject2=\"))\n",
    "    p3=int(input(\"subject3=\"))\n",
    "    p4=int(input(\"subject4=\"))\n",
    "    p5=int(input(\"subject5=\"))\n",
    "    total=(p1+p2+p3+p4+p5)\n",
    "    print(\"total:\",total)\n",
    "    percentage=(total/5)\n",
    "    print(\"percentage:\",percentage)"
   ]
  },
  {
   "cell_type": "code",
   "execution_count": 31,
   "id": "1f2557eb",
   "metadata": {},
   "outputs": [
    {
     "name": "stdout",
     "output_type": "stream",
     "text": [
      "subject1=23\n",
      "subject2=45\n",
      "subject3=34\n",
      "subject4=23\n",
      "subject5=23\n",
      "total: 148\n",
      "percentage: 29.6\n"
     ]
    }
   ],
   "source": [
    "percentage()"
   ]
  },
  {
   "cell_type": "code",
   "execution_count": null,
   "id": "3b72d6d8",
   "metadata": {},
   "outputs": [],
   "source": [
    "#triangle()"
   ]
  },
  {
   "cell_type": "code",
   "execution_count": 21,
   "id": "f7ff7921",
   "metadata": {
    "scrolled": false
   },
   "outputs": [],
   "source": [
    "def triangle():\n",
    "    Height=int(input(\"Height:\"))\n",
    "    breadth=int(input(\"Breadth:\"))\n",
    "    print(\"Area formula: (Height*Breadth)/2\")\n",
    "    print(\"Area of Triangle: \",(Height*breadth)/2)\n",
    "    Height1=int(input(\"Height1:\"))\n",
    "    Height2=int(input(\"Height2:\"))\n",
    "    breadth=int(input(\"Breadth:\"))\n",
    "    print(\"Perimeter formula: Height1+Height2+Breadth\")\n",
    "    print(\"Perimeter of Triangle: \",Height1+Height2+breadth)"
   ]
  },
  {
   "cell_type": "code",
   "execution_count": 22,
   "id": "dcde98b0",
   "metadata": {},
   "outputs": [
    {
     "name": "stdout",
     "output_type": "stream",
     "text": [
      "Height:3\n",
      "Breadth:4\n",
      "Area formula: (Height*Breadth)/2\n",
      "Area of Triangle:  6.0\n",
      "Height1:3\n",
      "Height2:4\n",
      "Breadth:45\n",
      "Perimeter formula: Height1+Height2+Breadth\n",
      "Perimeter of Triangle:  52\n"
     ]
    }
   ],
   "source": [
    "triangle()"
   ]
  },
  {
   "cell_type": "code",
   "execution_count": null,
   "id": "02ddf7b0",
   "metadata": {},
   "outputs": [],
   "source": []
  }
 ],
 "metadata": {
  "kernelspec": {
   "display_name": "Python 3 (ipykernel)",
   "language": "python",
   "name": "python3"
  },
  "language_info": {
   "codemirror_mode": {
    "name": "ipython",
    "version": 3
   },
   "file_extension": ".py",
   "mimetype": "text/x-python",
   "name": "python",
   "nbconvert_exporter": "python",
   "pygments_lexer": "ipython3",
   "version": "3.11.5"
  }
 },
 "nbformat": 4,
 "nbformat_minor": 5
}
