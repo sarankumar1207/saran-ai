{
 "cells": [
  {
   "cell_type": "code",
   "execution_count": 1,
   "id": "51079e62",
   "metadata": {},
   "outputs": [
    {
     "name": "stdout",
     "output_type": "stream",
     "text": [
      "Welcome to Assignment-1\n"
     ]
    }
   ],
   "source": [
    "print(\"Welcome to Assignment-1\")"
   ]
  },
  {
   "cell_type": "code",
   "execution_count": 2,
   "id": "7d8e1b88",
   "metadata": {},
   "outputs": [
    {
     "name": "stdout",
     "output_type": "stream",
     "text": [
      "Num1= 10\n",
      "Num2= 30\n",
      "Add= 40\n"
     ]
    }
   ],
   "source": [
    "num1=10\n",
    "print(\"Num1=\",num1)\n",
    "num2=30\n",
    "print(\"Num2=\",num2)\n",
    "add=num1+num2\n",
    "print(\"Add=\",add)"
   ]
  },
  {
   "cell_type": "code",
   "execution_count": null,
   "id": "42c3418e",
   "metadata": {},
   "outputs": [],
   "source": [
    "#BMI"
   ]
  },
  {
   "cell_type": "code",
   "execution_count": 3,
   "id": "6ad677a4",
   "metadata": {},
   "outputs": [],
   "source": [
    "if():\n",
    "    print()"
   ]
  },
  {
   "cell_type": "code",
   "execution_count": 4,
   "id": "034d2a24",
   "metadata": {},
   "outputs": [
    {
     "name": "stdout",
     "output_type": "stream",
     "text": [
      "enter the bmi:34\n"
     ]
    }
   ],
   "source": [
    "BMI=int(input(\"enter the bmi:\"))"
   ]
  },
  {
   "cell_type": "code",
   "execution_count": 5,
   "id": "2c9a3b67",
   "metadata": {},
   "outputs": [
    {
     "name": "stdout",
     "output_type": "stream",
     "text": [
      "Over Weight\n"
     ]
    }
   ],
   "source": [
    "if(BMI==34):\n",
    "    print(\"Over Weight\")"
   ]
  },
  {
   "cell_type": "code",
   "execution_count": null,
   "id": "54281454",
   "metadata": {},
   "outputs": [],
   "source": []
  }
 ],
 "metadata": {
  "kernelspec": {
   "display_name": "Python 3 (ipykernel)",
   "language": "python",
   "name": "python3"
  },
  "language_info": {
   "codemirror_mode": {
    "name": "ipython",
    "version": 3
   },
   "file_extension": ".py",
   "mimetype": "text/x-python",
   "name": "python",
   "nbconvert_exporter": "python",
   "pygments_lexer": "ipython3",
   "version": "3.11.5"
  }
 },
 "nbformat": 4,
 "nbformat_minor": 5
}
